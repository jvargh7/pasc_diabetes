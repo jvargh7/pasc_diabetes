{
 "cells": [
  {
   "cell_type": "code",
   "execution_count": 10,
   "metadata": {},
   "outputs": [],
   "source": [
    "import pandas as pd\n",
    "import numpy as np\n",
    "from sklearn.ensemble import RandomForestClassifier\n",
    "from sklearn.metrics import accuracy_score, confusion_matrix, precision_score, recall_score, ConfusionMatrixDisplay\n",
    "from sklearn.model_selection import RandomizedSearchCV, train_test_split\n",
    "from scipy.stats import randint\n",
    "import pyarrow.parquet as pq"
   ]
  },
  {
   "attachments": {},
   "cell_type": "markdown",
   "metadata": {},
   "source": [
    "## Reading data"
   ]
  },
  {
   "cell_type": "code",
   "execution_count": 11,
   "metadata": {},
   "outputs": [
    {
     "data": {
      "text/html": [
       "<div>\n",
       "<style scoped>\n",
       "    .dataframe tbody tr th:only-of-type {\n",
       "        vertical-align: middle;\n",
       "    }\n",
       "\n",
       "    .dataframe tbody tr th {\n",
       "        vertical-align: top;\n",
       "    }\n",
       "\n",
       "    .dataframe thead th {\n",
       "        text-align: right;\n",
       "    }\n",
       "</style>\n",
       "<table border=\"1\" class=\"dataframe\">\n",
       "  <thead>\n",
       "    <tr style=\"text-align: right;\">\n",
       "      <th></th>\n",
       "      <th>ID</th>\n",
       "      <th>female</th>\n",
       "      <th>nhwhite</th>\n",
       "      <th>nhblack</th>\n",
       "      <th>hispanic</th>\n",
       "      <th>nhother</th>\n",
       "      <th>age</th>\n",
       "      <th>matchid</th>\n",
       "      <th>index_date</th>\n",
       "      <th>site</th>\n",
       "      <th>...</th>\n",
       "      <th>pre_J04_gtQ3</th>\n",
       "      <th>pre_H01_gtQ3</th>\n",
       "      <th>lab_LOINC_788_0_gtQ3</th>\n",
       "      <th>lab_LOINC_10834_0_gtQ3</th>\n",
       "      <th>lab_LOINC_6301_6_gtQ3</th>\n",
       "      <th>lab_LOINC_5902_2_gtQ3</th>\n",
       "      <th>lab_LOINC_75241_0_gtQ3</th>\n",
       "      <th>lab_LOINC_1988_5_gtQ3</th>\n",
       "      <th>lab_LOINC_13458_5_gtQ3</th>\n",
       "      <th>lab_LOINC_4537_7_gtQ3</th>\n",
       "    </tr>\n",
       "  </thead>\n",
       "  <tbody>\n",
       "    <tr>\n",
       "      <th>0</th>\n",
       "      <td>12MAR202320220187400000002</td>\n",
       "      <td>1.0</td>\n",
       "      <td>1.0</td>\n",
       "      <td>0.0</td>\n",
       "      <td>0.0</td>\n",
       "      <td>0.0</td>\n",
       "      <td>33.0</td>\n",
       "      <td></td>\n",
       "      <td>2021-01-27</td>\n",
       "      <td>Source1</td>\n",
       "      <td>...</td>\n",
       "      <td>0.0</td>\n",
       "      <td>0.0</td>\n",
       "      <td>0.0</td>\n",
       "      <td>0.0</td>\n",
       "      <td>0.0</td>\n",
       "      <td>0.0</td>\n",
       "      <td>0.0</td>\n",
       "      <td>0.0</td>\n",
       "      <td>0.0</td>\n",
       "      <td>0.0</td>\n",
       "    </tr>\n",
       "    <tr>\n",
       "      <th>1</th>\n",
       "      <td>12MAR202320220187400000003</td>\n",
       "      <td>1.0</td>\n",
       "      <td>1.0</td>\n",
       "      <td>0.0</td>\n",
       "      <td>0.0</td>\n",
       "      <td>0.0</td>\n",
       "      <td>72.0</td>\n",
       "      <td></td>\n",
       "      <td>2018-08-20</td>\n",
       "      <td>Source5</td>\n",
       "      <td>...</td>\n",
       "      <td>0.0</td>\n",
       "      <td>0.0</td>\n",
       "      <td>0.0</td>\n",
       "      <td>0.0</td>\n",
       "      <td>0.0</td>\n",
       "      <td>0.0</td>\n",
       "      <td>0.0</td>\n",
       "      <td>0.0</td>\n",
       "      <td>0.0</td>\n",
       "      <td>0.0</td>\n",
       "    </tr>\n",
       "    <tr>\n",
       "      <th>2</th>\n",
       "      <td>12MAR202320220187400000004</td>\n",
       "      <td>0.0</td>\n",
       "      <td>1.0</td>\n",
       "      <td>0.0</td>\n",
       "      <td>0.0</td>\n",
       "      <td>0.0</td>\n",
       "      <td>84.0</td>\n",
       "      <td></td>\n",
       "      <td>2020-05-21</td>\n",
       "      <td>Source7</td>\n",
       "      <td>...</td>\n",
       "      <td>0.0</td>\n",
       "      <td>0.0</td>\n",
       "      <td>0.0</td>\n",
       "      <td>0.0</td>\n",
       "      <td>0.0</td>\n",
       "      <td>0.0</td>\n",
       "      <td>0.0</td>\n",
       "      <td>0.0</td>\n",
       "      <td>0.0</td>\n",
       "      <td>0.0</td>\n",
       "    </tr>\n",
       "    <tr>\n",
       "      <th>3</th>\n",
       "      <td>12MAR202320220187400000005</td>\n",
       "      <td>1.0</td>\n",
       "      <td>1.0</td>\n",
       "      <td>0.0</td>\n",
       "      <td>0.0</td>\n",
       "      <td>0.0</td>\n",
       "      <td>27.0</td>\n",
       "      <td></td>\n",
       "      <td>2021-03-01</td>\n",
       "      <td>Source1</td>\n",
       "      <td>...</td>\n",
       "      <td>0.0</td>\n",
       "      <td>0.0</td>\n",
       "      <td>0.0</td>\n",
       "      <td>0.0</td>\n",
       "      <td>0.0</td>\n",
       "      <td>0.0</td>\n",
       "      <td>0.0</td>\n",
       "      <td>0.0</td>\n",
       "      <td>0.0</td>\n",
       "      <td>0.0</td>\n",
       "    </tr>\n",
       "    <tr>\n",
       "      <th>4</th>\n",
       "      <td>12MAR202320220187400000007</td>\n",
       "      <td>1.0</td>\n",
       "      <td>0.0</td>\n",
       "      <td>0.0</td>\n",
       "      <td>0.0</td>\n",
       "      <td>1.0</td>\n",
       "      <td>18.0</td>\n",
       "      <td></td>\n",
       "      <td>2021-03-08</td>\n",
       "      <td>Source2</td>\n",
       "      <td>...</td>\n",
       "      <td>0.0</td>\n",
       "      <td>0.0</td>\n",
       "      <td>0.0</td>\n",
       "      <td>0.0</td>\n",
       "      <td>0.0</td>\n",
       "      <td>0.0</td>\n",
       "      <td>0.0</td>\n",
       "      <td>0.0</td>\n",
       "      <td>0.0</td>\n",
       "      <td>0.0</td>\n",
       "    </tr>\n",
       "  </tbody>\n",
       "</table>\n",
       "<p>5 rows × 1897 columns</p>\n",
       "</div>"
      ],
      "text/plain": [
       "                           ID  female  nhwhite  nhblack  hispanic  nhother  \\\n",
       "0  12MAR202320220187400000002     1.0      1.0      0.0       0.0      0.0   \n",
       "1  12MAR202320220187400000003     1.0      1.0      0.0       0.0      0.0   \n",
       "2  12MAR202320220187400000004     0.0      1.0      0.0       0.0      0.0   \n",
       "3  12MAR202320220187400000005     1.0      1.0      0.0       0.0      0.0   \n",
       "4  12MAR202320220187400000007     1.0      0.0      0.0       0.0      1.0   \n",
       "\n",
       "    age matchid  index_date     site  ... pre_J04_gtQ3 pre_H01_gtQ3  \\\n",
       "0  33.0          2021-01-27  Source1  ...          0.0          0.0   \n",
       "1  72.0          2018-08-20  Source5  ...          0.0          0.0   \n",
       "2  84.0          2020-05-21  Source7  ...          0.0          0.0   \n",
       "3  27.0          2021-03-01  Source1  ...          0.0          0.0   \n",
       "4  18.0          2021-03-08  Source2  ...          0.0          0.0   \n",
       "\n",
       "   lab_LOINC_788_0_gtQ3  lab_LOINC_10834_0_gtQ3  lab_LOINC_6301_6_gtQ3  \\\n",
       "0                   0.0                     0.0                    0.0   \n",
       "1                   0.0                     0.0                    0.0   \n",
       "2                   0.0                     0.0                    0.0   \n",
       "3                   0.0                     0.0                    0.0   \n",
       "4                   0.0                     0.0                    0.0   \n",
       "\n",
       "   lab_LOINC_5902_2_gtQ3  lab_LOINC_75241_0_gtQ3  lab_LOINC_1988_5_gtQ3  \\\n",
       "0                    0.0                     0.0                    0.0   \n",
       "1                    0.0                     0.0                    0.0   \n",
       "2                    0.0                     0.0                    0.0   \n",
       "3                    0.0                     0.0                    0.0   \n",
       "4                    0.0                     0.0                    0.0   \n",
       "\n",
       "   lab_LOINC_13458_5_gtQ3  lab_LOINC_4537_7_gtQ3  \n",
       "0                     0.0                    0.0  \n",
       "1                     0.0                    0.0  \n",
       "2                     0.0                    0.0  \n",
       "3                     0.0                    0.0  \n",
       "4                     0.0                    0.0  \n",
       "\n",
       "[5 rows x 1897 columns]"
      ]
     },
     "execution_count": 11,
     "metadata": {},
     "output_type": "execute_result"
    }
   ],
   "source": [
    "dir_name = 'C:\\Cloud\\OneDrive - Emory University\\Papers\\PASC Diabetes Incidence'\n",
    "outcome_df = pd.read_parquet(dir_name + '\\working\\sensitivity utilization\\pdsu204_ipw for loss to followup data.parquet' )\n",
    "outcome_df.head()"
   ]
  },
  {
   "cell_type": "code",
   "execution_count": 12,
   "metadata": {},
   "outputs": [
    {
     "data": {
      "text/plain": [
       "(252247, 1897)"
      ]
     },
     "execution_count": 12,
     "metadata": {},
     "output_type": "execute_result"
    }
   ],
   "source": [
    "# The below lines were commented out after testing a simple model\n",
    "# outcome_df = outcome_df.sample(frac=0.1, random_state=1)\n",
    "# sample_outcome_df.shape\n",
    "outcome_df.shape"
   ]
  },
  {
   "cell_type": "code",
   "execution_count": 13,
   "metadata": {},
   "outputs": [
    {
     "data": {
      "text/plain": [
       "(252247, 1922)"
      ]
     },
     "execution_count": 13,
     "metadata": {},
     "output_type": "execute_result"
    }
   ],
   "source": [
    "# https://stackoverflow.com/questions/11587782/creating-dummy-variables-in-pandas-for-python\n",
    "outcome_df = pd.get_dummies(outcome_df,prefix='',prefix_sep='_',\n",
    "                                           columns=['site','calendar_month','payer_type_primary','payer_type_secondary'],drop_first=True)\n",
    "outcome_df.shape\n",
    "# https://www.kdnuggets.com/2020/07/easy-guide-data-preprocessing-python.html\n",
    "# Also lists one-hot encoding as an option"
   ]
  },
  {
   "attachments": {},
   "cell_type": "markdown",
   "metadata": {},
   "source": [
    "## Code for Random Forest Classifier\n",
    "https://scikit-learn.org/stable/modules/grid_search.html"
   ]
  },
  {
   "cell_type": "code",
   "execution_count": 14,
   "metadata": {},
   "outputs": [
    {
     "name": "stdout",
     "output_type": "stream",
     "text": [
      "{'min_samples_leaf': [10], 'n_estimators': [2000]}\n"
     ]
    }
   ],
   "source": [
    "rf = RandomForestClassifier(random_state=1)\n",
    "# n_estimators = number of trees in the forest\n",
    "# random_state = controls both the randomness of the bootstrapping of the samples used when building trees (if bootstrap=True), \n",
    "# and the sampling of the features to consider when looking for the best split at each node (if max_features < n_features)\n",
    "# min_samples_leaf = [10, 25] # Comment out when running direct PS estimation\n",
    "# n_estimators = [1000, 2000] # Comment out when running direct PS estimation\n",
    "\n",
    "min_samples_leaf = [10]\n",
    "n_estimators = [2000]\n",
    "\n",
    "# TRIAL \n",
    "# min_samples_leaf = [500, 1000]\n",
    "# n_estimators = [5, 10] # Commented out after testing a simple model\n",
    "\n",
    "random_grid = {'min_samples_leaf': min_samples_leaf,\n",
    "               'n_estimators': n_estimators}\n",
    "print(random_grid)\n"
   ]
  },
  {
   "attachments": {},
   "cell_type": "markdown",
   "metadata": {},
   "source": [
    "## Train-Test Split"
   ]
  },
  {
   "cell_type": "code",
   "execution_count": 15,
   "metadata": {},
   "outputs": [],
   "source": [
    "y = outcome_df['in_dm_followup_ID']\n",
    "X = outcome_df.drop(['EXPOSED','COHORT','ID','matchid','index_date'], axis=1)\n",
    "\n",
    "X_train, X_test,y_train,y_test = train_test_split(X,y,test_size=0.2,random_state=1)"
   ]
  },
  {
   "cell_type": "code",
   "execution_count": 16,
   "metadata": {},
   "outputs": [
    {
     "data": {
      "text/plain": [
       "Counter({1.0: 181506, 0.0: 20291})"
      ]
     },
     "execution_count": 16,
     "metadata": {},
     "output_type": "execute_result"
    }
   ],
   "source": [
    "import collections\n",
    "# X_train.nhwhite.value_counts(dropna=False)\n",
    "collections.Counter(y_train)\n"
   ]
  },
  {
   "attachments": {},
   "cell_type": "markdown",
   "metadata": {},
   "source": [
    "## Grid Search\n",
    "https://towardsdatascience.com/gridsearchcv-for-beginners-db48a90114ee"
   ]
  },
  {
   "cell_type": "code",
   "execution_count": 17,
   "metadata": {},
   "outputs": [],
   "source": [
    "from sklearn.model_selection import GridSearchCV\n",
    "from sklearn.metrics import make_scorer\n"
   ]
  },
  {
   "cell_type": "code",
   "execution_count": 18,
   "metadata": {},
   "outputs": [
    {
     "data": {
      "text/plain": [
       "{'min_samples_leaf': 10, 'n_estimators': 2000}"
      ]
     },
     "execution_count": 18,
     "metadata": {},
     "output_type": "execute_result"
    }
   ],
   "source": [
    "gs_rf_ltfu = GridSearchCV(rf,\n",
    "                      param_grid=random_grid,\n",
    "                      # https://scikit-learn.org/stable/modules/model_evaluation.html#scoring\n",
    "                      # https://scikit-learn.org/stable/modules/generated/sklearn.metrics.roc_auc_score.html#sklearn.metrics.roc_auc_score\n",
    "                      scoring = make_scorer(recall_score, average='weighted'),\n",
    "                      cv=5)\n",
    "gs_rf_ltfu.fit(X_train, y_train)\n",
    "gs_rf_ltfu.best_params_"
   ]
  },
  {
   "cell_type": "code",
   "execution_count": 19,
   "metadata": {},
   "outputs": [
    {
     "data": {
      "text/plain": [
       "{'mean_fit_time': array([1539.64184561]),\n",
       " 'std_fit_time': array([30.15949458]),\n",
       " 'mean_score_time': array([17.97296286]),\n",
       " 'std_score_time': array([0.19979441]),\n",
       " 'param_min_samples_leaf': masked_array(data=[10],\n",
       "              mask=[False],\n",
       "        fill_value='?',\n",
       "             dtype=object),\n",
       " 'param_n_estimators': masked_array(data=[2000],\n",
       "              mask=[False],\n",
       "        fill_value='?',\n",
       "             dtype=object),\n",
       " 'params': [{'min_samples_leaf': 10, 'n_estimators': 2000}],\n",
       " 'split0_test_score': array([0.95374133]),\n",
       " 'split1_test_score': array([0.95396432]),\n",
       " 'split2_test_score': array([0.95579672]),\n",
       " 'split3_test_score': array([0.95418618]),\n",
       " 'split4_test_score': array([0.95329418]),\n",
       " 'mean_test_score': array([0.95419655]),\n",
       " 'std_test_score': array([0.00085277]),\n",
       " 'rank_test_score': array([1])}"
      ]
     },
     "execution_count": 19,
     "metadata": {},
     "output_type": "execute_result"
    }
   ],
   "source": [
    "gs_rf_ltfu.cv_results_"
   ]
  },
  {
   "cell_type": "code",
   "execution_count": 20,
   "metadata": {},
   "outputs": [
    {
     "data": {
      "text/plain": [
       "0.9541965474583158"
      ]
     },
     "execution_count": 20,
     "metadata": {},
     "output_type": "execute_result"
    }
   ],
   "source": [
    "gs_rf_ltfu.best_score_"
   ]
  },
  {
   "cell_type": "code",
   "execution_count": 21,
   "metadata": {},
   "outputs": [
    {
     "data": {
      "text/plain": [
       "0.9589494549058474"
      ]
     },
     "execution_count": 21,
     "metadata": {},
     "output_type": "execute_result"
    }
   ],
   "source": [
    "gs_rf_ltfu.score(X_test, y_test)"
   ]
  },
  {
   "cell_type": "code",
   "execution_count": 22,
   "metadata": {},
   "outputs": [
    {
     "data": {
      "text/html": [
       "<div>\n",
       "<style scoped>\n",
       "    .dataframe tbody tr th:only-of-type {\n",
       "        vertical-align: middle;\n",
       "    }\n",
       "\n",
       "    .dataframe tbody tr th {\n",
       "        vertical-align: top;\n",
       "    }\n",
       "\n",
       "    .dataframe thead th {\n",
       "        text-align: right;\n",
       "    }\n",
       "</style>\n",
       "<table border=\"1\" class=\"dataframe\">\n",
       "  <thead>\n",
       "    <tr style=\"text-align: right;\">\n",
       "      <th>col_0</th>\n",
       "      <th>0.0</th>\n",
       "      <th>1.0</th>\n",
       "    </tr>\n",
       "    <tr>\n",
       "      <th>in_dm_followup_ID</th>\n",
       "      <th></th>\n",
       "      <th></th>\n",
       "    </tr>\n",
       "  </thead>\n",
       "  <tbody>\n",
       "    <tr>\n",
       "      <th>0.0</th>\n",
       "      <td>17276</td>\n",
       "      <td>7943</td>\n",
       "    </tr>\n",
       "    <tr>\n",
       "      <th>1.0</th>\n",
       "      <td>0</td>\n",
       "      <td>227028</td>\n",
       "    </tr>\n",
       "  </tbody>\n",
       "</table>\n",
       "</div>"
      ],
      "text/plain": [
       "col_0                0.0     1.0\n",
       "in_dm_followup_ID               \n",
       "0.0                17276    7943\n",
       "1.0                    0  227028"
      ]
     },
     "execution_count": 22,
     "metadata": {},
     "output_type": "execute_result"
    }
   ],
   "source": [
    "# https://datatofish.com/numpy-array-to-pandas-dataframe/\n",
    "y_pred = gs_rf_ltfu.predict(X)\n",
    "y_pred_proba = gs_rf_ltfu.predict_proba(X)\n",
    "pd.DataFrame(y_pred_proba,columns=['missing','available']).to_csv(dir_name + '\\working\\sensitivity utilization\\pdsu206_predicted probability for loss to followup_min10_ntree2000.csv')\n",
    "pd.crosstab(y,y_pred)\n"
   ]
  }
 ],
 "metadata": {
  "kernelspec": {
   "display_name": "Python 3",
   "language": "python",
   "name": "python3"
  },
  "language_info": {
   "codemirror_mode": {
    "name": "ipython",
    "version": 3
   },
   "file_extension": ".py",
   "mimetype": "text/x-python",
   "name": "python",
   "nbconvert_exporter": "python",
   "pygments_lexer": "ipython3",
   "version": "3.11.4"
  },
  "orig_nbformat": 4
 },
 "nbformat": 4,
 "nbformat_minor": 2
}
