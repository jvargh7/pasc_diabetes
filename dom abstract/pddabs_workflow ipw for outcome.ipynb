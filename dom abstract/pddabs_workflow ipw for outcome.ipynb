{
 "cells": [
  {
   "cell_type": "code",
   "execution_count": 1,
   "metadata": {},
   "outputs": [],
   "source": [
    "import pandas as pd\n",
    "import numpy as np\n",
    "from sklearn.ensemble import RandomForestClassifier\n",
    "from sklearn.metrics import accuracy_score, confusion_matrix, precision_score, recall_score, ConfusionMatrixDisplay\n",
    "from sklearn.model_selection import RandomizedSearchCV, train_test_split\n",
    "from scipy.stats import randint\n",
    "import pyarrow.parquet as pq"
   ]
  },
  {
   "attachments": {},
   "cell_type": "markdown",
   "metadata": {},
   "source": [
    "## Reading data"
   ]
  },
  {
   "cell_type": "code",
   "execution_count": 6,
   "metadata": {},
   "outputs": [
    {
     "data": {
      "text/html": [
       "<div>\n",
       "<style scoped>\n",
       "    .dataframe tbody tr th:only-of-type {\n",
       "        vertical-align: middle;\n",
       "    }\n",
       "\n",
       "    .dataframe tbody tr th {\n",
       "        vertical-align: top;\n",
       "    }\n",
       "\n",
       "    .dataframe thead th {\n",
       "        text-align: right;\n",
       "    }\n",
       "</style>\n",
       "<table border=\"1\" class=\"dataframe\">\n",
       "  <thead>\n",
       "    <tr style=\"text-align: right;\">\n",
       "      <th></th>\n",
       "      <th>ID</th>\n",
       "      <th>female</th>\n",
       "      <th>nhwhite</th>\n",
       "      <th>nhblack</th>\n",
       "      <th>hispanic</th>\n",
       "      <th>nhother</th>\n",
       "      <th>age</th>\n",
       "      <th>matchid</th>\n",
       "      <th>index_date</th>\n",
       "      <th>site</th>\n",
       "      <th>...</th>\n",
       "      <th>LOINC_48159_8_gtQ3</th>\n",
       "      <th>LOINC_27297_1_gtQ3</th>\n",
       "      <th>LOINC_50553_7_gtQ3</th>\n",
       "      <th>LOINC_53290_3_gtQ3</th>\n",
       "      <th>LOINC_49524_2_gtQ3</th>\n",
       "      <th>LOINC_29908_1_gtQ3</th>\n",
       "      <th>LOINC_49521_8_gtQ3</th>\n",
       "      <th>LOINC_62423_9_gtQ3</th>\n",
       "      <th>LOINC_24027_5_gtQ3</th>\n",
       "      <th>LOINC_11557_6_gtQ3</th>\n",
       "    </tr>\n",
       "  </thead>\n",
       "  <tbody>\n",
       "    <tr>\n",
       "      <th>0</th>\n",
       "      <td>12MAR202320220187400000003</td>\n",
       "      <td>1.0</td>\n",
       "      <td>1.0</td>\n",
       "      <td>0.0</td>\n",
       "      <td>0.0</td>\n",
       "      <td>0.0</td>\n",
       "      <td>72.0</td>\n",
       "      <td></td>\n",
       "      <td>2018-08-20</td>\n",
       "      <td>Source5</td>\n",
       "      <td>...</td>\n",
       "      <td>0.0</td>\n",
       "      <td>0.0</td>\n",
       "      <td>0.0</td>\n",
       "      <td>0.0</td>\n",
       "      <td>0.0</td>\n",
       "      <td>0.0</td>\n",
       "      <td>0.0</td>\n",
       "      <td>0.0</td>\n",
       "      <td>0.0</td>\n",
       "      <td>0.0</td>\n",
       "    </tr>\n",
       "    <tr>\n",
       "      <th>1</th>\n",
       "      <td>12MAR202320220187400000004</td>\n",
       "      <td>0.0</td>\n",
       "      <td>1.0</td>\n",
       "      <td>0.0</td>\n",
       "      <td>0.0</td>\n",
       "      <td>0.0</td>\n",
       "      <td>84.0</td>\n",
       "      <td></td>\n",
       "      <td>2020-05-21</td>\n",
       "      <td>Source7</td>\n",
       "      <td>...</td>\n",
       "      <td>0.0</td>\n",
       "      <td>0.0</td>\n",
       "      <td>0.0</td>\n",
       "      <td>0.0</td>\n",
       "      <td>0.0</td>\n",
       "      <td>0.0</td>\n",
       "      <td>0.0</td>\n",
       "      <td>0.0</td>\n",
       "      <td>0.0</td>\n",
       "      <td>0.0</td>\n",
       "    </tr>\n",
       "    <tr>\n",
       "      <th>2</th>\n",
       "      <td>12MAR202320220187400000007</td>\n",
       "      <td>1.0</td>\n",
       "      <td>0.0</td>\n",
       "      <td>0.0</td>\n",
       "      <td>0.0</td>\n",
       "      <td>1.0</td>\n",
       "      <td>18.0</td>\n",
       "      <td></td>\n",
       "      <td>2021-03-08</td>\n",
       "      <td>Source2</td>\n",
       "      <td>...</td>\n",
       "      <td>0.0</td>\n",
       "      <td>0.0</td>\n",
       "      <td>0.0</td>\n",
       "      <td>0.0</td>\n",
       "      <td>0.0</td>\n",
       "      <td>0.0</td>\n",
       "      <td>0.0</td>\n",
       "      <td>0.0</td>\n",
       "      <td>0.0</td>\n",
       "      <td>0.0</td>\n",
       "    </tr>\n",
       "    <tr>\n",
       "      <th>3</th>\n",
       "      <td>12MAR202320220187400000008</td>\n",
       "      <td>1.0</td>\n",
       "      <td>0.0</td>\n",
       "      <td>1.0</td>\n",
       "      <td>0.0</td>\n",
       "      <td>0.0</td>\n",
       "      <td>60.0</td>\n",
       "      <td></td>\n",
       "      <td>2022-01-15</td>\n",
       "      <td>Source3</td>\n",
       "      <td>...</td>\n",
       "      <td>0.0</td>\n",
       "      <td>0.0</td>\n",
       "      <td>0.0</td>\n",
       "      <td>1.0</td>\n",
       "      <td>0.0</td>\n",
       "      <td>0.0</td>\n",
       "      <td>0.0</td>\n",
       "      <td>0.0</td>\n",
       "      <td>0.0</td>\n",
       "      <td>0.0</td>\n",
       "    </tr>\n",
       "    <tr>\n",
       "      <th>4</th>\n",
       "      <td>12MAR202320220187400000014</td>\n",
       "      <td>1.0</td>\n",
       "      <td>0.0</td>\n",
       "      <td>0.0</td>\n",
       "      <td>1.0</td>\n",
       "      <td>0.0</td>\n",
       "      <td>47.0</td>\n",
       "      <td></td>\n",
       "      <td>2022-01-13</td>\n",
       "      <td>Source2</td>\n",
       "      <td>...</td>\n",
       "      <td>0.0</td>\n",
       "      <td>0.0</td>\n",
       "      <td>0.0</td>\n",
       "      <td>0.0</td>\n",
       "      <td>0.0</td>\n",
       "      <td>0.0</td>\n",
       "      <td>0.0</td>\n",
       "      <td>0.0</td>\n",
       "      <td>0.0</td>\n",
       "      <td>0.0</td>\n",
       "    </tr>\n",
       "  </tbody>\n",
       "</table>\n",
       "<p>5 rows × 2983 columns</p>\n",
       "</div>"
      ],
      "text/plain": [
       "                           ID  female  nhwhite  nhblack  hispanic  nhother  \\\n",
       "0  12MAR202320220187400000003     1.0      1.0      0.0       0.0      0.0   \n",
       "1  12MAR202320220187400000004     0.0      1.0      0.0       0.0      0.0   \n",
       "2  12MAR202320220187400000007     1.0      0.0      0.0       0.0      1.0   \n",
       "3  12MAR202320220187400000008     1.0      0.0      1.0       0.0      0.0   \n",
       "4  12MAR202320220187400000014     1.0      0.0      0.0       1.0      0.0   \n",
       "\n",
       "    age matchid  index_date     site  ... LOINC_48159_8_gtQ3  \\\n",
       "0  72.0          2018-08-20  Source5  ...                0.0   \n",
       "1  84.0          2020-05-21  Source7  ...                0.0   \n",
       "2  18.0          2021-03-08  Source2  ...                0.0   \n",
       "3  60.0          2022-01-15  Source3  ...                0.0   \n",
       "4  47.0          2022-01-13  Source2  ...                0.0   \n",
       "\n",
       "  LOINC_27297_1_gtQ3  LOINC_50553_7_gtQ3  LOINC_53290_3_gtQ3  \\\n",
       "0                0.0                 0.0                 0.0   \n",
       "1                0.0                 0.0                 0.0   \n",
       "2                0.0                 0.0                 0.0   \n",
       "3                0.0                 0.0                 1.0   \n",
       "4                0.0                 0.0                 0.0   \n",
       "\n",
       "   LOINC_49524_2_gtQ3  LOINC_29908_1_gtQ3  LOINC_49521_8_gtQ3  \\\n",
       "0                 0.0                 0.0                 0.0   \n",
       "1                 0.0                 0.0                 0.0   \n",
       "2                 0.0                 0.0                 0.0   \n",
       "3                 0.0                 0.0                 0.0   \n",
       "4                 0.0                 0.0                 0.0   \n",
       "\n",
       "   LOINC_62423_9_gtQ3  LOINC_24027_5_gtQ3  LOINC_11557_6_gtQ3  \n",
       "0                 0.0                 0.0                 0.0  \n",
       "1                 0.0                 0.0                 0.0  \n",
       "2                 0.0                 0.0                 0.0  \n",
       "3                 0.0                 0.0                 0.0  \n",
       "4                 0.0                 0.0                 0.0  \n",
       "\n",
       "[5 rows x 2983 columns]"
      ]
     },
     "execution_count": 6,
     "metadata": {},
     "output_type": "execute_result"
    }
   ],
   "source": [
    "dir_name = 'C:\\Cloud\\OneDrive - Emory University\\Papers\\PASC Diabetes Incidence'\n",
    "sub_dir_name = '\\dom abstract'\n",
    "outcome_df = pd.read_parquet(dir_name + sub_dir_name + '\\pddabs_ipw for cohort membership data.parquet' )\n",
    "\n",
    "\n",
    "outcome_df.head()"
   ]
  },
  {
   "cell_type": "code",
   "execution_count": 7,
   "metadata": {},
   "outputs": [
    {
     "data": {
      "text/plain": [
       "(178109, 2983)"
      ]
     },
     "execution_count": 7,
     "metadata": {},
     "output_type": "execute_result"
    }
   ],
   "source": [
    "# The below lines were commented out after testing a simple model\n",
    "# outcome_df = outcome_df.sample(frac=0.1, random_state=1)\n",
    "# sample_outcome_df.shape\n",
    "outcome_df.shape"
   ]
  },
  {
   "cell_type": "code",
   "execution_count": 8,
   "metadata": {},
   "outputs": [
    {
     "data": {
      "text/plain": [
       "(178109, 3008)"
      ]
     },
     "execution_count": 8,
     "metadata": {},
     "output_type": "execute_result"
    }
   ],
   "source": [
    "# https://stackoverflow.com/questions/11587782/creating-dummy-variables-in-pandas-for-python\n",
    "outcome_df = pd.get_dummies(outcome_df,prefix='',prefix_sep='_',\n",
    "                                           columns=['site','calendar_month','payer_type_primary','payer_type_secondary'],drop_first=True)\n",
    "outcome_df.shape\n",
    "# https://www.kdnuggets.com/2020/07/easy-guide-data-preprocessing-python.html\n",
    "# Also lists one-hot encoding as an option"
   ]
  },
  {
   "attachments": {},
   "cell_type": "markdown",
   "metadata": {},
   "source": [
    "## Code for Random Forest Classifier\n",
    "https://scikit-learn.org/stable/modules/grid_search.html"
   ]
  },
  {
   "cell_type": "code",
   "execution_count": 9,
   "metadata": {},
   "outputs": [
    {
     "name": "stdout",
     "output_type": "stream",
     "text": [
      "{'min_samples_leaf': [10, 25], 'n_estimators': [1000, 2000]}\n"
     ]
    }
   ],
   "source": [
    "rf = RandomForestClassifier(random_state=1)\n",
    "# n_estimators = number of trees in the forest\n",
    "# random_state = controls both the randomness of the bootstrapping of the samples used when building trees (if bootstrap=True), \n",
    "# and the sampling of the features to consider when looking for the best split at each node (if max_features < n_features)\n",
    "min_samples_leaf = [10]\n",
    "n_estimators = [2000]\n",
    "\n",
    "# TRIAL \n",
    "# min_samples_leaf = [500, 1000]\n",
    "# n_estimators = [5, 10] # Commented out after testing a simple model\n",
    "\n",
    "random_grid = {'min_samples_leaf': min_samples_leaf,\n",
    "               'n_estimators': n_estimators}\n",
    "print(random_grid)\n"
   ]
  },
  {
   "attachments": {},
   "cell_type": "markdown",
   "metadata": {},
   "source": [
    "## Train-Test Split"
   ]
  },
  {
   "cell_type": "code",
   "execution_count": 10,
   "metadata": {},
   "outputs": [],
   "source": [
    "y = outcome_df['COHORT']\n",
    "X = outcome_df.drop(['COHORT','EXPOSED','UNEXPOSED','HISTORICAL','ID','matchid','index_date'], axis=1)\n",
    "\n",
    "X_train, X_test,y_train,y_test = train_test_split(X,y,test_size=0.2,random_state=1)"
   ]
  },
  {
   "attachments": {},
   "cell_type": "markdown",
   "metadata": {},
   "source": [
    "## Creating different outcome variables from train-test split"
   ]
  },
  {
   "cell_type": "code",
   "execution_count": 11,
   "metadata": {},
   "outputs": [],
   "source": [
    "y_train_EXPOSED = (y_train == 'exposed').astype(int)\n",
    "y_train_UNEXPOSED = (y_train == 'unexposed').astype(int)\n",
    "y_train_HISTORICAL = (y_train == 'historical').astype(int)\n",
    "\n",
    "y_test_EXPOSED = (y_test == 'exposed').astype(int)\n",
    "y_test_UNEXPOSED = (y_test == 'unexposed').astype(int)\n",
    "y_test_HISTORICAL = (y_test == 'historical').astype(int)\n"
   ]
  },
  {
   "cell_type": "code",
   "execution_count": 12,
   "metadata": {},
   "outputs": [
    {
     "data": {
      "text/plain": [
       "Counter({'unexposed': 192566, 'exposed': 60159, 'historical': 60082})"
      ]
     },
     "execution_count": 12,
     "metadata": {},
     "output_type": "execute_result"
    }
   ],
   "source": [
    "import collections\n",
    "# X_train.nhwhite.value_counts(dropna=False)\n",
    "collections.Counter(y_train)\n"
   ]
  },
  {
   "attachments": {},
   "cell_type": "markdown",
   "metadata": {},
   "source": [
    "## Grid Search\n",
    "https://towardsdatascience.com/gridsearchcv-for-beginners-db48a90114ee"
   ]
  },
  {
   "cell_type": "code",
   "execution_count": 13,
   "metadata": {},
   "outputs": [],
   "source": [
    "from sklearn.model_selection import GridSearchCV\n",
    "from sklearn.metrics import make_scorer\n"
   ]
  },
  {
   "attachments": {},
   "cell_type": "markdown",
   "metadata": {},
   "source": [
    "### Exposed vs Other"
   ]
  },
  {
   "cell_type": "code",
   "execution_count": 14,
   "metadata": {},
   "outputs": [
    {
     "data": {
      "text/plain": [
       "{'min_samples_leaf': 10, 'n_estimators': 2000}"
      ]
     },
     "execution_count": 14,
     "metadata": {},
     "output_type": "execute_result"
    }
   ],
   "source": [
    "gs_rf_EXPOSED = GridSearchCV(rf,\n",
    "                      param_grid=random_grid,\n",
    "                      # https://scikit-learn.org/stable/modules/model_evaluation.html#scoring\n",
    "                      # https://scikit-learn.org/stable/modules/generated/sklearn.metrics.roc_auc_score.html#sklearn.metrics.roc_auc_score\n",
    "                      scoring = make_scorer(recall_score, average='weighted'),\n",
    "                      cv=5)\n",
    "gs_rf_EXPOSED.fit(X_train, y_train_EXPOSED)\n",
    "gs_rf_EXPOSED.best_params_"
   ]
  },
  {
   "cell_type": "code",
   "execution_count": 15,
   "metadata": {},
   "outputs": [
    {
     "data": {
      "text/plain": [
       "{'mean_fit_time': array([3303.99533954, 5493.84352412, 2092.37502689, 4338.03481636]),\n",
       " 'std_fit_time': array([ 81.12890016, 601.98655528,  10.48954559, 303.36041632]),\n",
       " 'mean_score_time': array([28.55400262, 46.8072453 , 18.10110097, 36.50688338]),\n",
       " 'std_score_time': array([0.92405246, 6.02223454, 0.11429852, 1.56319148]),\n",
       " 'param_min_samples_leaf': masked_array(data=[10, 10, 25, 25],\n",
       "              mask=[False, False, False, False],\n",
       "        fill_value='?',\n",
       "             dtype=object),\n",
       " 'param_n_estimators': masked_array(data=[1000, 2000, 1000, 2000],\n",
       "              mask=[False, False, False, False],\n",
       "        fill_value='?',\n",
       "             dtype=object),\n",
       " 'params': [{'min_samples_leaf': 10, 'n_estimators': 1000},\n",
       "  {'min_samples_leaf': 10, 'n_estimators': 2000},\n",
       "  {'min_samples_leaf': 25, 'n_estimators': 1000},\n",
       "  {'min_samples_leaf': 25, 'n_estimators': 2000}],\n",
       " 'split0_test_score': array([0.82139318, 0.82137719, 0.81597455, 0.81603849]),\n",
       " 'split1_test_score': array([0.82193664, 0.82195262, 0.81667786, 0.81664589]),\n",
       " 'split2_test_score': array([0.82199773, 0.82206167, 0.81662697, 0.81640319]),\n",
       " 'split3_test_score': array([0.82164607, 0.821726  , 0.81638721, 0.81654705]),\n",
       " 'split4_test_score': array([0.82124646, 0.82119851, 0.81624335, 0.81627532]),\n",
       " 'mean_test_score': array([0.82164402, 0.8216632 , 0.81638199, 0.81638199]),\n",
       " 'std_test_score': array([0.00029384, 0.00032992, 0.00025799, 0.00021294]),\n",
       " 'rank_test_score': array([2, 1, 3, 4])}"
      ]
     },
     "execution_count": 15,
     "metadata": {},
     "output_type": "execute_result"
    }
   ],
   "source": [
    "gs_rf_EXPOSED.cv_results_"
   ]
  },
  {
   "cell_type": "code",
   "execution_count": 16,
   "metadata": {},
   "outputs": [
    {
     "data": {
      "text/plain": [
       "0.8216631980632764"
      ]
     },
     "execution_count": 16,
     "metadata": {},
     "output_type": "execute_result"
    }
   ],
   "source": [
    "gs_rf_EXPOSED.best_score_"
   ]
  },
  {
   "cell_type": "code",
   "execution_count": 17,
   "metadata": {},
   "outputs": [
    {
     "data": {
      "text/plain": [
       "0.8230096416971433"
      ]
     },
     "execution_count": 17,
     "metadata": {},
     "output_type": "execute_result"
    }
   ],
   "source": [
    "gs_rf_EXPOSED.score(X_test, y_test_EXPOSED)"
   ]
  },
  {
   "attachments": {},
   "cell_type": "markdown",
   "metadata": {},
   "source": [
    "### Unexposed vs Other"
   ]
  },
  {
   "cell_type": "code",
   "execution_count": 18,
   "metadata": {},
   "outputs": [
    {
     "data": {
      "text/plain": [
       "{'min_samples_leaf': 10, 'n_estimators': 2000}"
      ]
     },
     "execution_count": 18,
     "metadata": {},
     "output_type": "execute_result"
    }
   ],
   "source": [
    "gs_rf_UNEXPOSED = GridSearchCV(rf,\n",
    "                      param_grid=random_grid,\n",
    "                      # https://scikit-learn.org/stable/modules/model_evaluation.html#scoring\n",
    "                      # https://scikit-learn.org/stable/modules/generated/sklearn.metrics.roc_auc_score.html#sklearn.metrics.roc_auc_score\n",
    "                      scoring = make_scorer(recall_score, average='weighted'),\n",
    "                      cv=5)\n",
    "gs_rf_UNEXPOSED.fit(X_train, y_train_UNEXPOSED)\n",
    "gs_rf_UNEXPOSED.best_params_"
   ]
  },
  {
   "cell_type": "code",
   "execution_count": 19,
   "metadata": {},
   "outputs": [
    {
     "data": {
      "text/plain": [
       "{'mean_fit_time': array([2988.59148431, 5168.24266725, 2144.16353421, 3936.7920918 ]),\n",
       " 'std_fit_time': array([677.09767299, 613.46685969, 198.50112709,  25.48593291]),\n",
       " 'mean_score_time': array([26.49764538, 46.90005198, 18.89438653, 35.94184675]),\n",
       " 'std_score_time': array([7.10669089, 5.15039375, 1.12181581, 0.20592627]),\n",
       " 'param_min_samples_leaf': masked_array(data=[10, 10, 25, 25],\n",
       "              mask=[False, False, False, False],\n",
       "        fill_value='?',\n",
       "             dtype=object),\n",
       " 'param_n_estimators': masked_array(data=[1000, 2000, 1000, 2000],\n",
       "              mask=[False, False, False, False],\n",
       "        fill_value='?',\n",
       "             dtype=object),\n",
       " 'params': [{'min_samples_leaf': 10, 'n_estimators': 1000},\n",
       "  {'min_samples_leaf': 10, 'n_estimators': 2000},\n",
       "  {'min_samples_leaf': 25, 'n_estimators': 1000},\n",
       "  {'min_samples_leaf': 25, 'n_estimators': 2000}],\n",
       " 'split0_test_score': array([0.77083533, 0.77089927, 0.75990218, 0.75995013]),\n",
       " 'split1_test_score': array([0.77676545, 0.7771171 , 0.76444167, 0.76509702]),\n",
       " 'split2_test_score': array([0.77772094, 0.77792874, 0.76592446, 0.76610029]),\n",
       " 'split3_test_score': array([0.77340516, 0.77351705, 0.76184844, 0.76197631]),\n",
       " 'split4_test_score': array([0.77252601, 0.77236617, 0.76130497, 0.76149678]),\n",
       " 'mean_test_score': array([0.77425058, 0.77436567, 0.76268434, 0.76292411]),\n",
       " 'std_test_score': array([0.00259695, 0.00272029, 0.00218762, 0.00230607]),\n",
       " 'rank_test_score': array([2, 1, 4, 3])}"
      ]
     },
     "execution_count": 19,
     "metadata": {},
     "output_type": "execute_result"
    }
   ],
   "source": [
    "gs_rf_UNEXPOSED.cv_results_"
   ]
  },
  {
   "cell_type": "code",
   "execution_count": 20,
   "metadata": {},
   "outputs": [
    {
     "data": {
      "text/plain": [
       "0.774365665458136"
      ]
     },
     "execution_count": 20,
     "metadata": {},
     "output_type": "execute_result"
    }
   ],
   "source": [
    "gs_rf_UNEXPOSED.best_score_"
   ]
  },
  {
   "cell_type": "code",
   "execution_count": 21,
   "metadata": {},
   "outputs": [
    {
     "data": {
      "text/plain": [
       "0.7760926830515844"
      ]
     },
     "execution_count": 21,
     "metadata": {},
     "output_type": "execute_result"
    }
   ],
   "source": [
    "gs_rf_UNEXPOSED.score(X_test, y_test_UNEXPOSED)"
   ]
  },
  {
   "attachments": {},
   "cell_type": "markdown",
   "metadata": {},
   "source": [
    "### Historical vs Other"
   ]
  },
  {
   "cell_type": "code",
   "execution_count": 22,
   "metadata": {},
   "outputs": [
    {
     "data": {
      "text/plain": [
       "{'min_samples_leaf': 10, 'n_estimators': 2000}"
      ]
     },
     "execution_count": 22,
     "metadata": {},
     "output_type": "execute_result"
    }
   ],
   "source": [
    "gs_rf_HISTORICAL = GridSearchCV(rf,\n",
    "                      param_grid=random_grid,\n",
    "                      # https://scikit-learn.org/stable/modules/model_evaluation.html#scoring\n",
    "                      # https://scikit-learn.org/stable/modules/generated/sklearn.metrics.roc_auc_score.html#sklearn.metrics.roc_auc_score\n",
    "                      scoring = make_scorer(recall_score, average='weighted'),\n",
    "                      cv=5)\n",
    "gs_rf_HISTORICAL.fit(X_train, y_train_HISTORICAL)\n",
    "gs_rf_HISTORICAL.best_params_"
   ]
  },
  {
   "cell_type": "code",
   "execution_count": 23,
   "metadata": {},
   "outputs": [
    {
     "data": {
      "text/plain": [
       "{'mean_fit_time': array([2754.0484858 , 5862.60909104, 2282.45506916, 3835.14636097]),\n",
       " 'std_fit_time': array([678.17257845, 597.25667339,  37.68531522, 153.7442459 ]),\n",
       " 'mean_score_time': array([25.93892941, 65.17856493, 21.43345194, 35.86089616]),\n",
       " 'std_score_time': array([ 2.72580595, 20.67026836,  0.29885496,  0.25414226]),\n",
       " 'param_min_samples_leaf': masked_array(data=[10, 10, 25, 25],\n",
       "              mask=[False, False, False, False],\n",
       "        fill_value='?',\n",
       "             dtype=object),\n",
       " 'param_n_estimators': masked_array(data=[1000, 2000, 1000, 2000],\n",
       "              mask=[False, False, False, False],\n",
       "        fill_value='?',\n",
       "             dtype=object),\n",
       " 'params': [{'min_samples_leaf': 10, 'n_estimators': 1000},\n",
       "  {'min_samples_leaf': 10, 'n_estimators': 2000},\n",
       "  {'min_samples_leaf': 25, 'n_estimators': 1000},\n",
       "  {'min_samples_leaf': 25, 'n_estimators': 2000}],\n",
       " 'split0_test_score': array([0.88019884, 0.88040664, 0.86792302, 0.86841853]),\n",
       " 'split1_test_score': array([0.8812538 , 0.88168537, 0.86821073, 0.86811483]),\n",
       " 'split2_test_score': array([0.8814597 , 0.8814597 , 0.86918368, 0.86919966]),\n",
       " 'split3_test_score': array([0.88014897, 0.88050063, 0.86755327, 0.86785697]),\n",
       " 'split4_test_score': array([0.87984527, 0.87990921, 0.86724956, 0.86732949]),\n",
       " 'mean_test_score': array([0.88058132, 0.88079231, 0.86802405, 0.8681839 ]),\n",
       " 'std_test_score': array([0.00064788, 0.00067181, 0.00066502, 0.00062105]),\n",
       " 'rank_test_score': array([2, 1, 4, 3])}"
      ]
     },
     "execution_count": 23,
     "metadata": {},
     "output_type": "execute_result"
    }
   ],
   "source": [
    "gs_rf_HISTORICAL.cv_results_"
   ]
  },
  {
   "cell_type": "code",
   "execution_count": 24,
   "metadata": {},
   "outputs": [
    {
     "data": {
      "text/plain": [
       "0.8807923080129643"
      ]
     },
     "execution_count": 24,
     "metadata": {},
     "output_type": "execute_result"
    }
   ],
   "source": [
    "gs_rf_HISTORICAL.best_score_"
   ]
  },
  {
   "cell_type": "code",
   "execution_count": 29,
   "metadata": {},
   "outputs": [
    {
     "data": {
      "text/plain": [
       "0.8835196030792052"
      ]
     },
     "execution_count": 29,
     "metadata": {},
     "output_type": "execute_result"
    }
   ],
   "source": [
    "gs_rf_HISTORICAL.score(X_test, y_test_HISTORICAL)"
   ]
  },
  {
   "attachments": {},
   "cell_type": "markdown",
   "metadata": {},
   "source": [
    "## Final Fit\n"
   ]
  },
  {
   "cell_type": "code",
   "execution_count": 26,
   "metadata": {},
   "outputs": [
    {
     "data": {
      "text/html": [
       "<div>\n",
       "<style scoped>\n",
       "    .dataframe tbody tr th:only-of-type {\n",
       "        vertical-align: middle;\n",
       "    }\n",
       "\n",
       "    .dataframe tbody tr th {\n",
       "        vertical-align: top;\n",
       "    }\n",
       "\n",
       "    .dataframe thead th {\n",
       "        text-align: right;\n",
       "    }\n",
       "</style>\n",
       "<table border=\"1\" class=\"dataframe\">\n",
       "  <thead>\n",
       "    <tr style=\"text-align: right;\">\n",
       "      <th>col_0</th>\n",
       "      <th>0</th>\n",
       "      <th>1</th>\n",
       "    </tr>\n",
       "    <tr>\n",
       "      <th>COHORT</th>\n",
       "      <th></th>\n",
       "      <th></th>\n",
       "    </tr>\n",
       "  </thead>\n",
       "  <tbody>\n",
       "    <tr>\n",
       "      <th>exposed</th>\n",
       "      <td>66177</td>\n",
       "      <td>9040</td>\n",
       "    </tr>\n",
       "    <tr>\n",
       "      <th>historical</th>\n",
       "      <td>75209</td>\n",
       "      <td>8</td>\n",
       "    </tr>\n",
       "    <tr>\n",
       "      <th>unexposed</th>\n",
       "      <td>240296</td>\n",
       "      <td>279</td>\n",
       "    </tr>\n",
       "  </tbody>\n",
       "</table>\n",
       "</div>"
      ],
      "text/plain": [
       "col_0            0     1\n",
       "COHORT                  \n",
       "exposed      66177  9040\n",
       "historical   75209     8\n",
       "unexposed   240296   279"
      ]
     },
     "execution_count": 26,
     "metadata": {},
     "output_type": "execute_result"
    }
   ],
   "source": [
    "# https://datatofish.com/numpy-array-to-pandas-dataframe/\n",
    "y_pred_EXPOSED = gs_rf_EXPOSED.predict(X)\n",
    "y_pred_proba_EXPOSED = gs_rf_EXPOSED.predict_proba(X)\n",
    "pd.DataFrame(y_pred_proba_EXPOSED,columns=['other','exposed']).to_csv(dir_name + sub_dir_name + '\\pcra201_predicted probability for EXPOSED_min10_ntree2000.csv')\n",
    "pd.crosstab(y,y_pred_EXPOSED)\n"
   ]
  },
  {
   "cell_type": "code",
   "execution_count": 27,
   "metadata": {},
   "outputs": [
    {
     "data": {
      "text/html": [
       "<div>\n",
       "<style scoped>\n",
       "    .dataframe tbody tr th:only-of-type {\n",
       "        vertical-align: middle;\n",
       "    }\n",
       "\n",
       "    .dataframe tbody tr th {\n",
       "        vertical-align: top;\n",
       "    }\n",
       "\n",
       "    .dataframe thead th {\n",
       "        text-align: right;\n",
       "    }\n",
       "</style>\n",
       "<table border=\"1\" class=\"dataframe\">\n",
       "  <thead>\n",
       "    <tr style=\"text-align: right;\">\n",
       "      <th>col_0</th>\n",
       "      <th>0</th>\n",
       "      <th>1</th>\n",
       "    </tr>\n",
       "    <tr>\n",
       "      <th>COHORT</th>\n",
       "      <th></th>\n",
       "      <th></th>\n",
       "    </tr>\n",
       "  </thead>\n",
       "  <tbody>\n",
       "    <tr>\n",
       "      <th>exposed</th>\n",
       "      <td>34677</td>\n",
       "      <td>40540</td>\n",
       "    </tr>\n",
       "    <tr>\n",
       "      <th>historical</th>\n",
       "      <td>61129</td>\n",
       "      <td>14088</td>\n",
       "    </tr>\n",
       "    <tr>\n",
       "      <th>unexposed</th>\n",
       "      <td>21613</td>\n",
       "      <td>218962</td>\n",
       "    </tr>\n",
       "  </tbody>\n",
       "</table>\n",
       "</div>"
      ],
      "text/plain": [
       "col_0           0       1\n",
       "COHORT                   \n",
       "exposed     34677   40540\n",
       "historical  61129   14088\n",
       "unexposed   21613  218962"
      ]
     },
     "execution_count": 27,
     "metadata": {},
     "output_type": "execute_result"
    }
   ],
   "source": [
    "\n",
    "y_pred_UNEXPOSED = gs_rf_UNEXPOSED.predict(X)\n",
    "y_pred_proba_UNEXPOSED = gs_rf_UNEXPOSED.predict_proba(X)\n",
    "\n",
    "pd.DataFrame(y_pred_proba_UNEXPOSED,columns=['other','unexposed']).to_csv(dir_name + sub_dir_name + '\\pcra201_predicted probability for UNEXPOSED_min10_ntree2000.csv')\n",
    "pd.crosstab(y,y_pred_UNEXPOSED)\n",
    "\n"
   ]
  },
  {
   "cell_type": "code",
   "execution_count": 28,
   "metadata": {},
   "outputs": [
    {
     "data": {
      "text/html": [
       "<div>\n",
       "<style scoped>\n",
       "    .dataframe tbody tr th:only-of-type {\n",
       "        vertical-align: middle;\n",
       "    }\n",
       "\n",
       "    .dataframe tbody tr th {\n",
       "        vertical-align: top;\n",
       "    }\n",
       "\n",
       "    .dataframe thead th {\n",
       "        text-align: right;\n",
       "    }\n",
       "</style>\n",
       "<table border=\"1\" class=\"dataframe\">\n",
       "  <thead>\n",
       "    <tr style=\"text-align: right;\">\n",
       "      <th>col_0</th>\n",
       "      <th>0</th>\n",
       "      <th>1</th>\n",
       "    </tr>\n",
       "    <tr>\n",
       "      <th>COHORT</th>\n",
       "      <th></th>\n",
       "      <th></th>\n",
       "    </tr>\n",
       "  </thead>\n",
       "  <tbody>\n",
       "    <tr>\n",
       "      <th>exposed</th>\n",
       "      <td>73734</td>\n",
       "      <td>1483</td>\n",
       "    </tr>\n",
       "    <tr>\n",
       "      <th>historical</th>\n",
       "      <td>38716</td>\n",
       "      <td>36501</td>\n",
       "    </tr>\n",
       "    <tr>\n",
       "      <th>unexposed</th>\n",
       "      <td>238952</td>\n",
       "      <td>1623</td>\n",
       "    </tr>\n",
       "  </tbody>\n",
       "</table>\n",
       "</div>"
      ],
      "text/plain": [
       "col_0            0      1\n",
       "COHORT                   \n",
       "exposed      73734   1483\n",
       "historical   38716  36501\n",
       "unexposed   238952   1623"
      ]
     },
     "execution_count": 28,
     "metadata": {},
     "output_type": "execute_result"
    }
   ],
   "source": [
    "y_pred_HISTORICAL = gs_rf_HISTORICAL.predict(X)\n",
    "y_pred_proba_HISTORICAL = gs_rf_HISTORICAL.predict_proba(X)\n",
    "pd.DataFrame(y_pred_proba_HISTORICAL,columns=['other','historical']).to_csv(dir_name + sub_dir_name + '\\pcra201_predicted probability for HISTORICAL_min10_ntree2000.csv')\n",
    "pd.crosstab(y,y_pred_HISTORICAL)"
   ]
  }
 ],
 "metadata": {
  "kernelspec": {
   "display_name": "Python 3",
   "language": "python",
   "name": "python3"
  },
  "language_info": {
   "codemirror_mode": {
    "name": "ipython",
    "version": 3
   },
   "file_extension": ".py",
   "mimetype": "text/x-python",
   "name": "python",
   "nbconvert_exporter": "python",
   "pygments_lexer": "ipython3",
   "version": "3.11.4"
  },
  "orig_nbformat": 4
 },
 "nbformat": 4,
 "nbformat_minor": 2
}
