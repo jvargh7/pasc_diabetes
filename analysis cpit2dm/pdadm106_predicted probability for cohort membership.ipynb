{
 "cells": [
  {
   "cell_type": "code",
   "execution_count": 1,
   "metadata": {},
   "outputs": [],
   "source": [
    "import pandas as pd\n",
    "import numpy as np\n",
    "from sklearn.ensemble import RandomForestClassifier\n",
    "from sklearn.metrics import accuracy_score, confusion_matrix, precision_score, recall_score, ConfusionMatrixDisplay\n",
    "from sklearn.model_selection import RandomizedSearchCV, train_test_split\n",
    "from scipy.stats import randint\n",
    "import pyarrow.parquet as pq"
   ]
  },
  {
   "attachments": {},
   "cell_type": "markdown",
   "metadata": {},
   "source": [
    "## Reading data"
   ]
  },
  {
   "cell_type": "code",
   "execution_count": 2,
   "metadata": {},
   "outputs": [
    {
     "data": {
      "text/html": [
       "<div>\n",
       "<style scoped>\n",
       "    .dataframe tbody tr th:only-of-type {\n",
       "        vertical-align: middle;\n",
       "    }\n",
       "\n",
       "    .dataframe tbody tr th {\n",
       "        vertical-align: top;\n",
       "    }\n",
       "\n",
       "    .dataframe thead th {\n",
       "        text-align: right;\n",
       "    }\n",
       "</style>\n",
       "<table border=\"1\" class=\"dataframe\">\n",
       "  <thead>\n",
       "    <tr style=\"text-align: right;\">\n",
       "      <th></th>\n",
       "      <th>ID</th>\n",
       "      <th>female</th>\n",
       "      <th>nhwhite</th>\n",
       "      <th>nhblack</th>\n",
       "      <th>hispanic</th>\n",
       "      <th>nhother</th>\n",
       "      <th>age</th>\n",
       "      <th>matchid</th>\n",
       "      <th>index_date</th>\n",
       "      <th>site</th>\n",
       "      <th>...</th>\n",
       "      <th>lab_LOINC_11277_1_gtQ3</th>\n",
       "      <th>lab_LOINC_5821_4_gtQ3</th>\n",
       "      <th>lab_LOINC_13945_1_gtQ3</th>\n",
       "      <th>lab_LOINC_46421_4_gtQ3</th>\n",
       "      <th>lab_LOINC_6298_4_gtQ3</th>\n",
       "      <th>lab_LOINC_19123_9_gtQ3</th>\n",
       "      <th>lab_LOINC_10839_9_gtQ3</th>\n",
       "      <th>lab_LOINC_30934_4_gtQ3</th>\n",
       "      <th>lab_LOINC_1968_7_gtQ3</th>\n",
       "      <th>lab_LOINC_2157_6_gtQ3</th>\n",
       "    </tr>\n",
       "  </thead>\n",
       "  <tbody>\n",
       "    <tr>\n",
       "      <th>0</th>\n",
       "      <td>12MAR202320220187400000002</td>\n",
       "      <td>1.0</td>\n",
       "      <td>1.0</td>\n",
       "      <td>0.0</td>\n",
       "      <td>0.0</td>\n",
       "      <td>0.0</td>\n",
       "      <td>33.0</td>\n",
       "      <td></td>\n",
       "      <td>2021-01-27</td>\n",
       "      <td>Source1</td>\n",
       "      <td>...</td>\n",
       "      <td>0.0</td>\n",
       "      <td>0.0</td>\n",
       "      <td>0.0</td>\n",
       "      <td>0.0</td>\n",
       "      <td>0.0</td>\n",
       "      <td>0.0</td>\n",
       "      <td>0.0</td>\n",
       "      <td>0.0</td>\n",
       "      <td>0.0</td>\n",
       "      <td>0.0</td>\n",
       "    </tr>\n",
       "    <tr>\n",
       "      <th>1</th>\n",
       "      <td>12MAR202320220187400000003</td>\n",
       "      <td>1.0</td>\n",
       "      <td>1.0</td>\n",
       "      <td>0.0</td>\n",
       "      <td>0.0</td>\n",
       "      <td>0.0</td>\n",
       "      <td>72.0</td>\n",
       "      <td></td>\n",
       "      <td>2018-08-20</td>\n",
       "      <td>Source5</td>\n",
       "      <td>...</td>\n",
       "      <td>0.0</td>\n",
       "      <td>0.0</td>\n",
       "      <td>0.0</td>\n",
       "      <td>0.0</td>\n",
       "      <td>0.0</td>\n",
       "      <td>0.0</td>\n",
       "      <td>0.0</td>\n",
       "      <td>0.0</td>\n",
       "      <td>0.0</td>\n",
       "      <td>0.0</td>\n",
       "    </tr>\n",
       "    <tr>\n",
       "      <th>2</th>\n",
       "      <td>12MAR202320220187400000004</td>\n",
       "      <td>0.0</td>\n",
       "      <td>1.0</td>\n",
       "      <td>0.0</td>\n",
       "      <td>0.0</td>\n",
       "      <td>0.0</td>\n",
       "      <td>84.0</td>\n",
       "      <td></td>\n",
       "      <td>2020-05-21</td>\n",
       "      <td>Source7</td>\n",
       "      <td>...</td>\n",
       "      <td>0.0</td>\n",
       "      <td>0.0</td>\n",
       "      <td>0.0</td>\n",
       "      <td>0.0</td>\n",
       "      <td>0.0</td>\n",
       "      <td>0.0</td>\n",
       "      <td>0.0</td>\n",
       "      <td>0.0</td>\n",
       "      <td>0.0</td>\n",
       "      <td>0.0</td>\n",
       "    </tr>\n",
       "    <tr>\n",
       "      <th>3</th>\n",
       "      <td>12MAR202320220187400000005</td>\n",
       "      <td>1.0</td>\n",
       "      <td>1.0</td>\n",
       "      <td>0.0</td>\n",
       "      <td>0.0</td>\n",
       "      <td>0.0</td>\n",
       "      <td>27.0</td>\n",
       "      <td></td>\n",
       "      <td>2021-03-01</td>\n",
       "      <td>Source1</td>\n",
       "      <td>...</td>\n",
       "      <td>0.0</td>\n",
       "      <td>0.0</td>\n",
       "      <td>0.0</td>\n",
       "      <td>0.0</td>\n",
       "      <td>0.0</td>\n",
       "      <td>0.0</td>\n",
       "      <td>0.0</td>\n",
       "      <td>0.0</td>\n",
       "      <td>0.0</td>\n",
       "      <td>0.0</td>\n",
       "    </tr>\n",
       "    <tr>\n",
       "      <th>4</th>\n",
       "      <td>12MAR202320220187400000007</td>\n",
       "      <td>1.0</td>\n",
       "      <td>0.0</td>\n",
       "      <td>0.0</td>\n",
       "      <td>0.0</td>\n",
       "      <td>1.0</td>\n",
       "      <td>18.0</td>\n",
       "      <td></td>\n",
       "      <td>2021-03-08</td>\n",
       "      <td>Source2</td>\n",
       "      <td>...</td>\n",
       "      <td>0.0</td>\n",
       "      <td>0.0</td>\n",
       "      <td>0.0</td>\n",
       "      <td>0.0</td>\n",
       "      <td>0.0</td>\n",
       "      <td>0.0</td>\n",
       "      <td>0.0</td>\n",
       "      <td>0.0</td>\n",
       "      <td>0.0</td>\n",
       "      <td>0.0</td>\n",
       "    </tr>\n",
       "  </tbody>\n",
       "</table>\n",
       "<p>5 rows × 1767 columns</p>\n",
       "</div>"
      ],
      "text/plain": [
       "                           ID  female  nhwhite  nhblack  hispanic  nhother  \\\n",
       "0  12MAR202320220187400000002     1.0      1.0      0.0       0.0      0.0   \n",
       "1  12MAR202320220187400000003     1.0      1.0      0.0       0.0      0.0   \n",
       "2  12MAR202320220187400000004     0.0      1.0      0.0       0.0      0.0   \n",
       "3  12MAR202320220187400000005     1.0      1.0      0.0       0.0      0.0   \n",
       "4  12MAR202320220187400000007     1.0      0.0      0.0       0.0      1.0   \n",
       "\n",
       "    age matchid  index_date     site  ... lab_LOINC_11277_1_gtQ3  \\\n",
       "0  33.0          2021-01-27  Source1  ...                    0.0   \n",
       "1  72.0          2018-08-20  Source5  ...                    0.0   \n",
       "2  84.0          2020-05-21  Source7  ...                    0.0   \n",
       "3  27.0          2021-03-01  Source1  ...                    0.0   \n",
       "4  18.0          2021-03-08  Source2  ...                    0.0   \n",
       "\n",
       "  lab_LOINC_5821_4_gtQ3  lab_LOINC_13945_1_gtQ3  lab_LOINC_46421_4_gtQ3  \\\n",
       "0                   0.0                     0.0                     0.0   \n",
       "1                   0.0                     0.0                     0.0   \n",
       "2                   0.0                     0.0                     0.0   \n",
       "3                   0.0                     0.0                     0.0   \n",
       "4                   0.0                     0.0                     0.0   \n",
       "\n",
       "   lab_LOINC_6298_4_gtQ3  lab_LOINC_19123_9_gtQ3  lab_LOINC_10839_9_gtQ3  \\\n",
       "0                    0.0                     0.0                     0.0   \n",
       "1                    0.0                     0.0                     0.0   \n",
       "2                    0.0                     0.0                     0.0   \n",
       "3                    0.0                     0.0                     0.0   \n",
       "4                    0.0                     0.0                     0.0   \n",
       "\n",
       "   lab_LOINC_30934_4_gtQ3  lab_LOINC_1968_7_gtQ3  lab_LOINC_2157_6_gtQ3  \n",
       "0                     0.0                    0.0                    0.0  \n",
       "1                     0.0                    0.0                    0.0  \n",
       "2                     0.0                    0.0                    0.0  \n",
       "3                     0.0                    0.0                    0.0  \n",
       "4                     0.0                    0.0                    0.0  \n",
       "\n",
       "[5 rows x 1767 columns]"
      ]
     },
     "execution_count": 2,
     "metadata": {},
     "output_type": "execute_result"
    }
   ],
   "source": [
    "dir_name = 'C:\\Cloud\\OneDrive - Emory University\\Papers\\PASC Diabetes Incidence'\n",
    "outcome_df = pd.read_parquet(dir_name + '\\working\\models pdadm\\pdadm104_ipw for cohort membership data.parquet' )\n",
    "outcome_df.head()"
   ]
  },
  {
   "cell_type": "code",
   "execution_count": 3,
   "metadata": {},
   "outputs": [
    {
     "data": {
      "text/plain": [
       "(252247, 1767)"
      ]
     },
     "execution_count": 3,
     "metadata": {},
     "output_type": "execute_result"
    }
   ],
   "source": [
    "# The below lines were commented out after testing a simple model\n",
    "# outcome_df = outcome_df.sample(frac=0.1, random_state=1)\n",
    "# sample_outcome_df.shape\n",
    "outcome_df.shape"
   ]
  },
  {
   "cell_type": "code",
   "execution_count": 4,
   "metadata": {},
   "outputs": [
    {
     "data": {
      "text/plain": [
       "(252247, 1792)"
      ]
     },
     "execution_count": 4,
     "metadata": {},
     "output_type": "execute_result"
    }
   ],
   "source": [
    "# https://stackoverflow.com/questions/11587782/creating-dummy-variables-in-pandas-for-python\n",
    "outcome_df = pd.get_dummies(outcome_df,prefix='',prefix_sep='_',\n",
    "                                           columns=['site','calendar_month','payer_type_primary','payer_type_secondary'],drop_first=True)\n",
    "outcome_df.shape\n",
    "# https://www.kdnuggets.com/2020/07/easy-guide-data-preprocessing-python.html\n",
    "# Also lists one-hot encoding as an option"
   ]
  },
  {
   "attachments": {},
   "cell_type": "markdown",
   "metadata": {},
   "source": [
    "## Code for Random Forest Classifier\n",
    "https://scikit-learn.org/stable/modules/grid_search.html"
   ]
  },
  {
   "cell_type": "code",
   "execution_count": 5,
   "metadata": {},
   "outputs": [
    {
     "name": "stdout",
     "output_type": "stream",
     "text": [
      "{'min_samples_leaf': [10], 'n_estimators': [2000]}\n"
     ]
    }
   ],
   "source": [
    "rf = RandomForestClassifier(random_state=1)\n",
    "# n_estimators = number of trees in the forest\n",
    "# random_state = controls both the randomness of the bootstrapping of the samples used when building trees (if bootstrap=True), \n",
    "# and the sampling of the features to consider when looking for the best split at each node (if max_features < n_features)\n",
    "# min_samples_leaf = [10, 25] # Comment out when running direct PS estimation\n",
    "# n_estimators = [1000, 2000] # Comment out when running direct PS estimation\n",
    "\n",
    "min_samples_leaf = [10]\n",
    "n_estimators = [2000]\n",
    "\n",
    "# TRIAL \n",
    "# min_samples_leaf = [500, 1000]\n",
    "# n_estimators = [5, 10] # Commented out after testing a simple model\n",
    "\n",
    "random_grid = {'min_samples_leaf': min_samples_leaf,\n",
    "               'n_estimators': n_estimators}\n",
    "print(random_grid)\n"
   ]
  },
  {
   "attachments": {},
   "cell_type": "markdown",
   "metadata": {},
   "source": [
    "## Train-Test Split"
   ]
  },
  {
   "cell_type": "code",
   "execution_count": 6,
   "metadata": {},
   "outputs": [],
   "source": [
    "y = outcome_df['COHORT']\n",
    "X = outcome_df.drop(['COHORT','EXPOSED','UNEXPOSED','HISTORICAL','ID','matchid','index_date'], axis=1)\n",
    "\n",
    "X_train, X_test,y_train,y_test = train_test_split(X,y,test_size=0.2,random_state=1)"
   ]
  },
  {
   "attachments": {},
   "cell_type": "markdown",
   "metadata": {},
   "source": [
    "## Creating different outcome variables from train-test split"
   ]
  },
  {
   "cell_type": "code",
   "execution_count": 7,
   "metadata": {},
   "outputs": [],
   "source": [
    "y_train_EXPOSED = (y_train == 'exposed').astype(int)\n",
    "y_train_UNEXPOSED = (y_train == 'unexposed').astype(int)\n",
    "y_train_HISTORICAL = (y_train == 'historical').astype(int)\n",
    "\n",
    "y_test_EXPOSED = (y_test == 'exposed').astype(int)\n",
    "y_test_UNEXPOSED = (y_test == 'unexposed').astype(int)\n",
    "y_test_HISTORICAL = (y_test == 'historical').astype(int)\n"
   ]
  },
  {
   "cell_type": "code",
   "execution_count": 8,
   "metadata": {},
   "outputs": [
    {
     "data": {
      "text/plain": [
       "Counter({'unexposed': 132753, 'exposed': 36086, 'historical': 32958})"
      ]
     },
     "execution_count": 8,
     "metadata": {},
     "output_type": "execute_result"
    }
   ],
   "source": [
    "import collections\n",
    "# X_train.nhwhite.value_counts(dropna=False)\n",
    "collections.Counter(y_train)\n"
   ]
  },
  {
   "attachments": {},
   "cell_type": "markdown",
   "metadata": {},
   "source": [
    "## Grid Search\n",
    "https://towardsdatascience.com/gridsearchcv-for-beginners-db48a90114ee"
   ]
  },
  {
   "cell_type": "code",
   "execution_count": 9,
   "metadata": {},
   "outputs": [],
   "source": [
    "from sklearn.model_selection import GridSearchCV\n",
    "from sklearn.metrics import make_scorer\n"
   ]
  },
  {
   "attachments": {},
   "cell_type": "markdown",
   "metadata": {},
   "source": [
    "### Exposed vs Other"
   ]
  },
  {
   "cell_type": "code",
   "execution_count": 10,
   "metadata": {},
   "outputs": [
    {
     "data": {
      "text/plain": [
       "{'min_samples_leaf': 10, 'n_estimators': 2000}"
      ]
     },
     "execution_count": 10,
     "metadata": {},
     "output_type": "execute_result"
    }
   ],
   "source": [
    "gs_rf_EXPOSED = GridSearchCV(rf,\n",
    "                      param_grid=random_grid,\n",
    "                      # https://scikit-learn.org/stable/modules/model_evaluation.html#scoring\n",
    "                      # https://scikit-learn.org/stable/modules/generated/sklearn.metrics.roc_auc_score.html#sklearn.metrics.roc_auc_score\n",
    "                      scoring = make_scorer(recall_score, average='weighted'),\n",
    "                      cv=5)\n",
    "gs_rf_EXPOSED.fit(X_train, y_train_EXPOSED)\n",
    "gs_rf_EXPOSED.best_params_"
   ]
  },
  {
   "cell_type": "code",
   "execution_count": 11,
   "metadata": {},
   "outputs": [
    {
     "data": {
      "text/plain": [
       "{'mean_fit_time': array([2852.43603697]),\n",
       " 'std_fit_time': array([30.06899278]),\n",
       " 'mean_score_time': array([31.26862636]),\n",
       " 'std_score_time': array([0.30069676]),\n",
       " 'param_min_samples_leaf': masked_array(data=[10],\n",
       "              mask=[False],\n",
       "        fill_value='?',\n",
       "             dtype=object),\n",
       " 'param_n_estimators': masked_array(data=[2000],\n",
       "              mask=[False],\n",
       "        fill_value='?',\n",
       "             dtype=object),\n",
       " 'params': [{'min_samples_leaf': 10, 'n_estimators': 2000}],\n",
       " 'split0_test_score': array([0.83704163]),\n",
       " 'split1_test_score': array([0.83731417]),\n",
       " 'split2_test_score': array([0.83656681]),\n",
       " 'split3_test_score': array([0.83716148]),\n",
       " 'split4_test_score': array([0.83686414]),\n",
       " 'mean_test_score': array([0.83698965]),\n",
       " 'std_test_score': array([0.00025771]),\n",
       " 'rank_test_score': array([1])}"
      ]
     },
     "execution_count": 11,
     "metadata": {},
     "output_type": "execute_result"
    }
   ],
   "source": [
    "gs_rf_EXPOSED.cv_results_"
   ]
  },
  {
   "cell_type": "code",
   "execution_count": 12,
   "metadata": {},
   "outputs": [
    {
     "data": {
      "text/plain": [
       "0.836989646146843"
      ]
     },
     "execution_count": 12,
     "metadata": {},
     "output_type": "execute_result"
    }
   ],
   "source": [
    "gs_rf_EXPOSED.best_score_"
   ]
  },
  {
   "cell_type": "code",
   "execution_count": 13,
   "metadata": {},
   "outputs": [
    {
     "data": {
      "text/plain": [
       "0.8443211100099108"
      ]
     },
     "execution_count": 13,
     "metadata": {},
     "output_type": "execute_result"
    }
   ],
   "source": [
    "gs_rf_EXPOSED.score(X_test, y_test_EXPOSED)"
   ]
  },
  {
   "cell_type": "code",
   "execution_count": 14,
   "metadata": {},
   "outputs": [
    {
     "data": {
      "text/html": [
       "<div>\n",
       "<style scoped>\n",
       "    .dataframe tbody tr th:only-of-type {\n",
       "        vertical-align: middle;\n",
       "    }\n",
       "\n",
       "    .dataframe tbody tr th {\n",
       "        vertical-align: top;\n",
       "    }\n",
       "\n",
       "    .dataframe thead th {\n",
       "        text-align: right;\n",
       "    }\n",
       "</style>\n",
       "<table border=\"1\" class=\"dataframe\">\n",
       "  <thead>\n",
       "    <tr style=\"text-align: right;\">\n",
       "      <th>col_0</th>\n",
       "      <th>0</th>\n",
       "      <th>1</th>\n",
       "    </tr>\n",
       "    <tr>\n",
       "      <th>COHORT</th>\n",
       "      <th></th>\n",
       "      <th></th>\n",
       "    </tr>\n",
       "  </thead>\n",
       "  <tbody>\n",
       "    <tr>\n",
       "      <th>exposed</th>\n",
       "      <td>36427</td>\n",
       "      <td>8484</td>\n",
       "    </tr>\n",
       "    <tr>\n",
       "      <th>historical</th>\n",
       "      <td>41418</td>\n",
       "      <td>0</td>\n",
       "    </tr>\n",
       "    <tr>\n",
       "      <th>unexposed</th>\n",
       "      <td>165897</td>\n",
       "      <td>21</td>\n",
       "    </tr>\n",
       "  </tbody>\n",
       "</table>\n",
       "</div>"
      ],
      "text/plain": [
       "col_0            0     1\n",
       "COHORT                  \n",
       "exposed      36427  8484\n",
       "historical   41418     0\n",
       "unexposed   165897    21"
      ]
     },
     "execution_count": 14,
     "metadata": {},
     "output_type": "execute_result"
    }
   ],
   "source": [
    "# https://datatofish.com/numpy-array-to-pandas-dataframe/\n",
    "y_pred_EXPOSED = gs_rf_EXPOSED.predict(X)\n",
    "y_pred_proba_EXPOSED = gs_rf_EXPOSED.predict_proba(X)\n",
    "pd.DataFrame(y_pred_proba_EXPOSED,columns=['other','exposed']).to_csv(dir_name + '\\working\\models pdadm\\pdadm106_predicted probability for EXPOSED_min10_ntree2000.csv')\n",
    "pd.crosstab(y,y_pred_EXPOSED)\n"
   ]
  },
  {
   "attachments": {},
   "cell_type": "markdown",
   "metadata": {},
   "source": [
    "### Unexposed vs Other"
   ]
  },
  {
   "cell_type": "code",
   "execution_count": 15,
   "metadata": {},
   "outputs": [
    {
     "data": {
      "text/plain": [
       "{'min_samples_leaf': 10, 'n_estimators': 2000}"
      ]
     },
     "execution_count": 15,
     "metadata": {},
     "output_type": "execute_result"
    }
   ],
   "source": [
    "gs_rf_UNEXPOSED = GridSearchCV(rf,\n",
    "                      param_grid=random_grid,\n",
    "                      # https://scikit-learn.org/stable/modules/model_evaluation.html#scoring\n",
    "                      # https://scikit-learn.org/stable/modules/generated/sklearn.metrics.roc_auc_score.html#sklearn.metrics.roc_auc_score\n",
    "                      scoring = make_scorer(recall_score, average='weighted'),\n",
    "                      cv=5)\n",
    "gs_rf_UNEXPOSED.fit(X_train, y_train_UNEXPOSED)\n",
    "gs_rf_UNEXPOSED.best_params_"
   ]
  },
  {
   "cell_type": "code",
   "execution_count": 16,
   "metadata": {},
   "outputs": [
    {
     "data": {
      "text/plain": [
       "{'mean_fit_time': array([2824.1160593]),\n",
       " 'std_fit_time': array([12.32566337]),\n",
       " 'mean_score_time': array([32.57838888]),\n",
       " 'std_score_time': array([0.30571743]),\n",
       " 'param_min_samples_leaf': masked_array(data=[10],\n",
       "              mask=[False],\n",
       "        fill_value='?',\n",
       "             dtype=object),\n",
       " 'param_n_estimators': masked_array(data=[2000],\n",
       "              mask=[False],\n",
       "        fill_value='?',\n",
       "             dtype=object),\n",
       " 'params': [{'min_samples_leaf': 10, 'n_estimators': 2000}],\n",
       " 'split0_test_score': array([0.85210605]),\n",
       " 'split1_test_score': array([0.84995045]),\n",
       " 'split2_test_score': array([0.85088828]),\n",
       " 'split3_test_score': array([0.85348993]),\n",
       " 'split4_test_score': array([0.85054139]),\n",
       " 'mean_test_score': array([0.85139522]),\n",
       " 'std_test_score': array([0.00126226]),\n",
       " 'rank_test_score': array([1])}"
      ]
     },
     "execution_count": 16,
     "metadata": {},
     "output_type": "execute_result"
    }
   ],
   "source": [
    "gs_rf_UNEXPOSED.cv_results_"
   ]
  },
  {
   "cell_type": "code",
   "execution_count": 17,
   "metadata": {},
   "outputs": [
    {
     "data": {
      "text/plain": [
       "0.85139521763923"
      ]
     },
     "execution_count": 17,
     "metadata": {},
     "output_type": "execute_result"
    }
   ],
   "source": [
    "gs_rf_UNEXPOSED.best_score_"
   ]
  },
  {
   "cell_type": "code",
   "execution_count": 18,
   "metadata": {},
   "outputs": [
    {
     "data": {
      "text/plain": [
       "0.8577205153617443"
      ]
     },
     "execution_count": 18,
     "metadata": {},
     "output_type": "execute_result"
    }
   ],
   "source": [
    "gs_rf_UNEXPOSED.score(X_test, y_test_UNEXPOSED)"
   ]
  },
  {
   "cell_type": "code",
   "execution_count": 19,
   "metadata": {},
   "outputs": [
    {
     "data": {
      "text/html": [
       "<div>\n",
       "<style scoped>\n",
       "    .dataframe tbody tr th:only-of-type {\n",
       "        vertical-align: middle;\n",
       "    }\n",
       "\n",
       "    .dataframe tbody tr th {\n",
       "        vertical-align: top;\n",
       "    }\n",
       "\n",
       "    .dataframe thead th {\n",
       "        text-align: right;\n",
       "    }\n",
       "</style>\n",
       "<table border=\"1\" class=\"dataframe\">\n",
       "  <thead>\n",
       "    <tr style=\"text-align: right;\">\n",
       "      <th>col_0</th>\n",
       "      <th>0</th>\n",
       "      <th>1</th>\n",
       "    </tr>\n",
       "    <tr>\n",
       "      <th>COHORT</th>\n",
       "      <th></th>\n",
       "      <th></th>\n",
       "    </tr>\n",
       "  </thead>\n",
       "  <tbody>\n",
       "    <tr>\n",
       "      <th>exposed</th>\n",
       "      <td>19312</td>\n",
       "      <td>25599</td>\n",
       "    </tr>\n",
       "    <tr>\n",
       "      <th>historical</th>\n",
       "      <td>37838</td>\n",
       "      <td>3580</td>\n",
       "    </tr>\n",
       "    <tr>\n",
       "      <th>unexposed</th>\n",
       "      <td>406</td>\n",
       "      <td>165512</td>\n",
       "    </tr>\n",
       "  </tbody>\n",
       "</table>\n",
       "</div>"
      ],
      "text/plain": [
       "col_0           0       1\n",
       "COHORT                   \n",
       "exposed     19312   25599\n",
       "historical  37838    3580\n",
       "unexposed     406  165512"
      ]
     },
     "execution_count": 19,
     "metadata": {},
     "output_type": "execute_result"
    }
   ],
   "source": [
    "\n",
    "y_pred_UNEXPOSED = gs_rf_UNEXPOSED.predict(X)\n",
    "y_pred_proba_UNEXPOSED = gs_rf_UNEXPOSED.predict_proba(X)\n",
    "\n",
    "pd.DataFrame(y_pred_proba_UNEXPOSED,columns=['other','unexposed']).to_csv(dir_name + '\\working\\models pdadm\\pdadm106_predicted probability for UNEXPOSED_min10_ntree2000.csv')\n",
    "pd.crosstab(y,y_pred_UNEXPOSED)\n",
    "\n"
   ]
  },
  {
   "attachments": {},
   "cell_type": "markdown",
   "metadata": {},
   "source": [
    "### Historical vs Other"
   ]
  },
  {
   "cell_type": "code",
   "execution_count": 20,
   "metadata": {},
   "outputs": [
    {
     "data": {
      "text/plain": [
       "{'min_samples_leaf': 10, 'n_estimators': 2000}"
      ]
     },
     "execution_count": 20,
     "metadata": {},
     "output_type": "execute_result"
    }
   ],
   "source": [
    "gs_rf_HISTORICAL = GridSearchCV(rf,\n",
    "                      param_grid=random_grid,\n",
    "                      # https://scikit-learn.org/stable/modules/model_evaluation.html#scoring\n",
    "                      # https://scikit-learn.org/stable/modules/generated/sklearn.metrics.roc_auc_score.html#sklearn.metrics.roc_auc_score\n",
    "                      scoring = make_scorer(recall_score, average='weighted'),\n",
    "                      cv=5)\n",
    "gs_rf_HISTORICAL.fit(X_train, y_train_HISTORICAL)\n",
    "gs_rf_HISTORICAL.best_params_"
   ]
  },
  {
   "cell_type": "code",
   "execution_count": 21,
   "metadata": {},
   "outputs": [
    {
     "data": {
      "text/plain": [
       "{'mean_fit_time': array([2221.20289564]),\n",
       " 'std_fit_time': array([295.33555381]),\n",
       " 'mean_score_time': array([27.60567522]),\n",
       " 'std_score_time': array([6.98255112]),\n",
       " 'param_min_samples_leaf': masked_array(data=[10],\n",
       "              mask=[False],\n",
       "        fill_value='?',\n",
       "             dtype=object),\n",
       " 'param_n_estimators': masked_array(data=[2000],\n",
       "              mask=[False],\n",
       "        fill_value='?',\n",
       "             dtype=object),\n",
       " 'params': [{'min_samples_leaf': 10, 'n_estimators': 2000}],\n",
       " 'split0_test_score': array([0.9622894]),\n",
       " 'split1_test_score': array([0.95948959]),\n",
       " 'split2_test_score': array([0.96280879]),\n",
       " 'split3_test_score': array([0.96164424]),\n",
       " 'split4_test_score': array([0.96159469]),\n",
       " 'mean_test_score': array([0.96156534]),\n",
       " 'std_test_score': array([0.00113015]),\n",
       " 'rank_test_score': array([1])}"
      ]
     },
     "execution_count": 21,
     "metadata": {},
     "output_type": "execute_result"
    }
   ],
   "source": [
    "gs_rf_HISTORICAL.cv_results_"
   ]
  },
  {
   "cell_type": "code",
   "execution_count": 22,
   "metadata": {},
   "outputs": [
    {
     "data": {
      "text/plain": [
       "0.9615653421591761"
      ]
     },
     "execution_count": 22,
     "metadata": {},
     "output_type": "execute_result"
    }
   ],
   "source": [
    "gs_rf_HISTORICAL.best_score_"
   ]
  },
  {
   "cell_type": "code",
   "execution_count": 23,
   "metadata": {},
   "outputs": [
    {
     "data": {
      "text/plain": [
       "0.9629732408325075"
      ]
     },
     "execution_count": 23,
     "metadata": {},
     "output_type": "execute_result"
    }
   ],
   "source": [
    "gs_rf_HISTORICAL.score(X_test, y_test_HISTORICAL)"
   ]
  },
  {
   "cell_type": "code",
   "execution_count": 24,
   "metadata": {},
   "outputs": [
    {
     "data": {
      "text/html": [
       "<div>\n",
       "<style scoped>\n",
       "    .dataframe tbody tr th:only-of-type {\n",
       "        vertical-align: middle;\n",
       "    }\n",
       "\n",
       "    .dataframe tbody tr th {\n",
       "        vertical-align: top;\n",
       "    }\n",
       "\n",
       "    .dataframe thead th {\n",
       "        text-align: right;\n",
       "    }\n",
       "</style>\n",
       "<table border=\"1\" class=\"dataframe\">\n",
       "  <thead>\n",
       "    <tr style=\"text-align: right;\">\n",
       "      <th>col_0</th>\n",
       "      <th>0</th>\n",
       "      <th>1</th>\n",
       "    </tr>\n",
       "    <tr>\n",
       "      <th>COHORT</th>\n",
       "      <th></th>\n",
       "      <th></th>\n",
       "    </tr>\n",
       "  </thead>\n",
       "  <tbody>\n",
       "    <tr>\n",
       "      <th>exposed</th>\n",
       "      <td>44903</td>\n",
       "      <td>8</td>\n",
       "    </tr>\n",
       "    <tr>\n",
       "      <th>historical</th>\n",
       "      <td>8064</td>\n",
       "      <td>33354</td>\n",
       "    </tr>\n",
       "    <tr>\n",
       "      <th>unexposed</th>\n",
       "      <td>165917</td>\n",
       "      <td>1</td>\n",
       "    </tr>\n",
       "  </tbody>\n",
       "</table>\n",
       "</div>"
      ],
      "text/plain": [
       "col_0            0      1\n",
       "COHORT                   \n",
       "exposed      44903      8\n",
       "historical    8064  33354\n",
       "unexposed   165917      1"
      ]
     },
     "execution_count": 24,
     "metadata": {},
     "output_type": "execute_result"
    }
   ],
   "source": [
    "y_pred_HISTORICAL = gs_rf_HISTORICAL.predict(X)\n",
    "y_pred_proba_HISTORICAL = gs_rf_HISTORICAL.predict_proba(X)\n",
    "pd.DataFrame(y_pred_proba_HISTORICAL,columns=['other','historical']).to_csv(dir_name + '\\working\\models pdadm\\pdadm106_predicted probability for HISTORICAL_min10_ntree2000.csv')\n",
    "pd.crosstab(y,y_pred_HISTORICAL)"
   ]
  }
 ],
 "metadata": {
  "kernelspec": {
   "display_name": "Python 3",
   "language": "python",
   "name": "python3"
  },
  "language_info": {
   "codemirror_mode": {
    "name": "ipython",
    "version": 3
   },
   "file_extension": ".py",
   "mimetype": "text/x-python",
   "name": "python",
   "nbconvert_exporter": "python",
   "pygments_lexer": "ipython3",
   "version": "3.11.4"
  },
  "orig_nbformat": 4
 },
 "nbformat": 4,
 "nbformat_minor": 2
}
